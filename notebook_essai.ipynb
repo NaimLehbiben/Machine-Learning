{
 "cells": [
  {
   "cell_type": "code",
   "execution_count": 2,
   "metadata": {},
   "outputs": [],
   "source": []
  },
  {
   "cell_type": "code",
   "execution_count": null,
   "metadata": {},
   "outputs": [],
   "source": [
    "# Extraire la date et la station de l'index dans y_train\n",
    "y_train[['date', 'station']] = y_train['index'].str.split('_', expand=True)\n",
    "\n",
    "# Convertir les dates en format datetime\n",
    "x_train['date'] = pd.to_datetime(x_train['date'], format='%d/%m/%Y')\n",
    "y_train['date'] = pd.to_datetime(y_train['date'])\n",
    "\n",
    "# Fusionner x_train et y_train\n",
    "train_df = pd.merge(x_train, y_train, on=['date', 'station'])\n",
    "\n",
    "# Créer des variables dummies pour les jours de la semaine\n",
    "train_df['day_of_week'] = train_df['date'].dt.dayofweek\n",
    "train_df = pd.get_dummies(train_df, columns=['day_of_week'], drop_first=True)\n",
    "\n",
    "# Ajouter une tendance temporelle\n",
    "train_df['trend'] = (train_df['date'] - train_df['date'].min()).dt.days\n",
    "\n",
    "# Vérifier la structure des données après ajout des variables\n",
    "print(train_df.head())\n"
   ]
  }
 ],
 "metadata": {
  "kernelspec": {
   "display_name": ".venv",
   "language": "python",
   "name": "python3"
  },
  "language_info": {
   "codemirror_mode": {
    "name": "ipython",
    "version": 3
   },
   "file_extension": ".py",
   "mimetype": "text/x-python",
   "name": "python",
   "nbconvert_exporter": "python",
   "pygments_lexer": "ipython3",
   "version": "3.12.3"
  }
 },
 "nbformat": 4,
 "nbformat_minor": 2
}
