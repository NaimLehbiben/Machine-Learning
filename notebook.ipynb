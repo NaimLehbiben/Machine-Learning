{
 "cells": [
  {
   "cell_type": "markdown",
   "metadata": {},
   "source": [
    "# Problématique\n",
    "\n",
    "SNCF-Transilien, l'opérateur des trains de banlieue d'Île-de-France, cherche à mieux anticiper l'augmentation du nombre de validations de cartes à puce par jour et par gare. Cette anticipation est cruciale pour améliorer la performance opérationnelle et proposer des services plus adaptés. Entre 2015 et 2019, le nombre de validations a augmenté d'environ 6% par an. Le but de ce challenge est de prédire le nombre de validations par jour et par gare à moyen et long terme.\n",
    "\n",
    "## Objectif\n",
    "\n",
    "\n",
    "L'objectif principal est de développer un modèle de machine learning capable de prédire le nombre de validations quotidiennes pour chaque gare du réseau SNCF-Transilien sur la période du 1er janvier 2023 au 30 juin 2023."
   ]
  },
  {
   "cell_type": "code",
   "execution_count": null,
   "metadata": {},
   "outputs": [],
   "source": [
    "import pandas as pd\n",
    "import numpy as np\n",
    "import matplotlib.pyplot as plt\n",
    "import seaborn as sns\n",
    "from sklearn.model_selection import train_test_split\n",
    "from sklearn.preprocessing import StandardScaler, OneHotEncoder\n",
    "from sklearn.compose import ColumnTransformer\n",
    "from sklearn.pipeline import Pipeline\n",
    "from sklearn.metrics import mean_absolute_percentage_error\n",
    "\n",
    "# Importer les fichiers\n",
    "train_data = pd.read_csv('data/train_f_x.csv')\n",
    "test_data = pd.read_csv('data/test_f_x_THurtzP.csv')\n",
    "y_train = pd.read_csv('data/y_train_sncf.csv')\n",
    "y_example = pd.read_csv('data/y_exemple_sncf_d9so9pm.csv')\n",
    "\n",
    "# Conversion de la colonne 'date' en type datetime\n",
    "train_data['date'] = pd.to_datetime(train_data['date'])\n",
    "test_data['date'] = pd.to_datetime(test_data['date'])\n",
    "\n",
    "# Extraire les informations de 'index' dans y_train\n",
    "y_train['date'] = y_train['index'].str.split('_').str[0]\n",
    "y_train['station'] = y_train['index'].str.split('_').str[1]\n",
    "\n",
    "# Conversion de la colonne 'date' en type datetime pour y_train\n",
    "y_train['date'] = pd.to_datetime(y_train['date'])\n",
    "\n",
    "# Fusionner les données d'entraînement avec les valeurs cibles\n",
    "train_full = train_data.merge(y_train, on=['date', 'station'])\n",
    "\n",
    "# Prendre un échantillon de 10% des données\n",
    "train_sample = train_full.sample(frac=0.1, random_state=42)\n",
    "\n",
    "# Séparer les features et la cible\n",
    "X = train_sample.drop(columns=['y', 'index'])\n",
    "y = train_sample['y']\n",
    "\n",
    "# Diviser les données en ensembles d'entraînement et de validation\n",
    "X_train, X_val, y_train, y_val = train_test_split(X, y, test_size=0.2, random_state=42)\n",
    "\n",
    "# Extraire des informations de la date\n",
    "for df in [X_train, X_val, test_data]:\n",
    "    df['day'] = df['date'].dt.day\n",
    "    df['month'] = df['date'].dt.month\n",
    "    df['year'] = df['date'].dt.year\n",
    "    df['day_of_week'] = df['date'].dt.dayofweek\n",
    "    df['week_of_year'] = df['date'].dt.isocalendar().week\n",
    "\n",
    "# Supprimer la colonne 'date' après l'extraction des features\n",
    "X_train = X_train.drop(columns=['date'])\n",
    "X_val = X_val.drop(columns=['date'])\n",
    "test_data = test_data.drop(columns=['date'])\n",
    "\n",
    "# Vérification des statistiques descriptives des valeurs cibles\n",
    "print(y.describe())\n",
    "\n",
    "# Distribution des valeurs cibles\n",
    "plt.figure(figsize=(10, 6))\n",
    "sns.histplot(y, bins=50, kde=True)\n",
    "plt.title('Distribution des valeurs cibles (y)')\n",
    "plt.xlabel('Nombre de validations')\n",
    "plt.ylabel('Fréquence')\n",
    "plt.show()\n"
   ]
  },
  {
   "cell_type": "code",
   "execution_count": null,
   "metadata": {},
   "outputs": [],
   "source": [
    "# Appliquer une transformation logarithmique aux valeurs cibles\n",
    "y_train_log = np.log1p(y_train)\n",
    "y_val_log = np.log1p(y_val)\n",
    "\n",
    "# Vérifier la distribution après transformation\n",
    "plt.figure(figsize=(10, 6))\n",
    "sns.histplot(y_train_log, bins=50, kde=True)\n",
    "plt.title('Distribution des valeurs cibles (y) après transformation logarithmique')\n",
    "plt.xlabel('Log Nombre de validations')\n",
    "plt.ylabel('Fréquence')\n",
    "plt.show()\n"
   ]
  }
 ],
 "metadata": {
  "kernelspec": {
   "display_name": ".venv",
   "language": "python",
   "name": "python3"
  },
  "language_info": {
   "codemirror_mode": {
    "name": "ipython",
    "version": 3
   },
   "file_extension": ".py",
   "mimetype": "text/x-python",
   "name": "python",
   "nbconvert_exporter": "python",
   "pygments_lexer": "ipython3",
   "version": "3.12.0"
  }
 },
 "nbformat": 4,
 "nbformat_minor": 2
}
