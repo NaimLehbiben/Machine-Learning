{
 "cells": [
  {
   "cell_type": "code",
   "execution_count": 1,
   "metadata": {},
   "outputs": [],
   "source": [
    "import pandas as pd\n",
    "import numpy as np\n",
    "import tensorflow as tf\n",
    "\n",
    "# Définir le chemin vers le répertoire des données\n",
    "file_path = 'data/'\n",
    "\n",
    "# Charger les fichiers CSV\n",
    "X_train = pd.read_csv(file_path + 'X_train_N1UvY30.csv')\n",
    "y_train = pd.read_csv(file_path + 'y_train_or6m3Ta.csv')\n",
    "X_test = pd.read_csv(file_path + 'X_test_m4HAPAP.csv')\n",
    "y_test = pd.read_csv(file_path + 'y_random_cfm.csv')\n",
    "\n",
    "\n"
   ]
  }
 ],
 "metadata": {
  "kernelspec": {
   "display_name": ".venv",
   "language": "python",
   "name": "python3"
  },
  "language_info": {
   "codemirror_mode": {
    "name": "ipython",
    "version": 3
   },
   "file_extension": ".py",
   "mimetype": "text/x-python",
   "name": "python",
   "nbconvert_exporter": "python",
   "pygments_lexer": "ipython3",
   "version": "3.12.0"
  }
 },
 "nbformat": 4,
 "nbformat_minor": 2
}
